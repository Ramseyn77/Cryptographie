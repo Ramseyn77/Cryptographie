{
 "cells": [
  {
   "cell_type": "code",
   "execution_count": 3,
   "metadata": {},
   "outputs": [
    {
     "name": "stdout",
     "output_type": "stream",
     "text": [
      "1 - Chiffrement Césare\n",
      "2 - Déchiffrement Césare\n",
      "WHUD\n"
     ]
    }
   ],
   "source": [
    "import string\n",
    "\n",
    "\n",
    "def chiffrement_cesare(texte, cle):\n",
    "    texte = texte.upper()\n",
    "    alphabet = string.ascii_uppercase\n",
    "    cle = int(cle)\n",
    "    tableau_chiffrement = str.maketrans(alphabet, alphabet[cle:] + alphabet[:cle])\n",
    "    texte_chiffre = texte.translate(tableau_chiffrement)\n",
    "    return texte_chiffre\n",
    "\n",
    "def dechiffrement_cesare(texte_chiffre, cle):\n",
    "    texte_chiffre = texte_chiffre.upper()\n",
    "    alphabet = string.ascii_uppercase\n",
    "    cle = int(cle)\n",
    "    tableau_dechiffrement = str.maketrans(alphabet[cle:] + alphabet[:cle], alphabet)\n",
    "    texte = texte_chiffre.translate(tableau_dechiffrement)\n",
    "    return texte\n",
    "\n",
    "\n",
    "def cryptage_cesare():\n",
    "    print('1 - Chiffrement Césare')\n",
    "    print('2 - Déchiffrement Césare')\n",
    "    choice = int(input('Faites votre choix : '))\n",
    "    \n",
    "    if choice == 1:\n",
    "        text = input(\"Veuillez saisir le texte à crypter : \")\n",
    "        key = input(\"Veuillez saisir la clé de cryptage : \")\n",
    "        texte_chiffrer = chiffrement_cesare(text, key)\n",
    "        print(\"Texte chiffré :\",texte_chiffrer)\n",
    "    elif choice == 2:\n",
    "        texte = input(\"Veuillez saisir le texte crypté : \")\n",
    "        cle = input(\"Veuillez saisir la clé de décryptage : \")\n",
    "        texte_dechiffrer = dechiffrement_cesare(texte, cle)\n",
    "        print(\"Texte déchiffré :\",texte_dechiffrer)\n",
    "    else:\n",
    "        print('Veuillez faire un choix entre 1 et 2')\n",
    "\n",
    "\n",
    "cryptage_cesare()\n"
   ]
  },
  {
   "cell_type": "code",
   "execution_count": 4,
   "metadata": {},
   "outputs": [
    {
     "name": "stdout",
     "output_type": "stream",
     "text": [
      "1 - Chiffrement Vigénère\n",
      "2 - Déchiffrement Vigénère\n",
      "RCPY\n"
     ]
    }
   ],
   "source": [
    "import string\n",
    "\n",
    "def chiffrement_vigenere(texte, cle):\n",
    "    texte = texte.upper()\n",
    "    cle = cle.upper()\n",
    "    alphabet = string.ascii_uppercase\n",
    "    tableau_chiffrement = str.maketrans(alphabet, alphabet[len(cle):] + alphabet[:len(cle)])\n",
    "    texte_chiffre = texte.translate(tableau_chiffrement)\n",
    "    return texte_chiffre\n",
    "\n",
    "def dechiffrement_vigenere(texte_chiffre, cle):\n",
    "    texte_chiffre = texte_chiffre.upper()\n",
    "    cle = cle.upper()\n",
    "    alphabet = string.ascii_uppercase\n",
    "    tableau_dechiffrement = str.maketrans(alphabet[len(cle):] + alphabet[:len(cle)], alphabet)\n",
    "    texte = texte_chiffre.translate(tableau_dechiffrement)\n",
    "    return texte\n",
    "\n",
    "\n",
    "def cryptage_vigenere():\n",
    "    print('1 - Chiffrement Vigénère')\n",
    "    print('2 - Déchiffrement Vigénère')\n",
    "    choice = int(input('Faites votre choix : '))\n",
    "    \n",
    "    if choice == 1:\n",
    "        text = input(\"Veuillez saisir le texte à crypter : \")\n",
    "        key = input(\"Veuillez saisir la clé de cryptage : \")\n",
    "        texte_chiffrer = chiffrement_vigenere(text, key)\n",
    "        print(\"Texte chiffré :\",texte_chiffrer)\n",
    "    elif choice == 2:\n",
    "        texte = input(\"Veuillez saisir le texte crypté : \")\n",
    "        cle = input(\"Veuillez saisir la clé de décryptage : \")\n",
    "        texte_dechiffrer = dechiffrement_vigenere(texte, cle)\n",
    "        print(\"Texte déchiffré :\" ,texte_dechiffrer)\n",
    "    else:\n",
    "        print('Veuillez faire un choix entre 1 et 2')\n",
    "\n",
    "cryptage_vigenere()"
   ]
  },
  {
   "cell_type": "code",
   "execution_count": 4,
   "metadata": {},
   "outputs": [
    {
     "name": "stdout",
     "output_type": "stream",
     "text": [
      "Texte chiffré : IPCD\n"
     ]
    }
   ],
   "source": [
    "import string\n",
    "\n",
    "def chiffrement_affine(texte, a, b):\n",
    "    texte = texte.upper()\n",
    "    alphabet = string.ascii_uppercase\n",
    "    tableau_chiffrement = str.maketrans(alphabet, ''.join([alphabet[(a*i + b) % 26] for i in range(26)]))\n",
    "    texte_chiffre = texte.translate(tableau_chiffrement)\n",
    "    return texte_chiffre\n",
    "\n",
    "def dechiffrement_affine(texte_chiffre, a, b):\n",
    "    texte_chiffre = texte_chiffre.upper()\n",
    "    alphabet = string.ascii_uppercase\n",
    "    tableau_dechiffrement = str.maketrans(''.join([alphabet[(a*i + b) % 26] for i in range(26)]), alphabet)\n",
    "    texte = texte_chiffre.translate(tableau_dechiffrement)\n",
    "    return texte\n",
    "\n",
    "def cryptage_affine():\n",
    "    choix = input(\"Voulez-vous chiffrer (C) ou déchiffrer (D) ? \").upper()\n",
    "    \n",
    "    if choix == 'C':\n",
    "        texte = input(\"Entrez le texte à chiffrer : \")\n",
    "        a = int(input(\"Entrez la valeur de a pour la clé : \"))\n",
    "        b = int(input(\"Entrez la valeur de b pour la clé : \"))\n",
    "        texte_chiffre = chiffrement_affine(texte, a, b)\n",
    "        print(\"Texte chiffré :\", texte_chiffre)\n",
    "        \n",
    "    elif choix == 'D':\n",
    "        texte_chiffre = input(\"Entrez le texte à déchiffrer : \")\n",
    "        a = int(input(\"Entrez la valeur de a pour la clé : \"))\n",
    "        b = int(input(\"Entrez la valeur de b pour la clé : \"))\n",
    "        texte_dechiffre = dechiffrement_affine(texte_chiffre, a, b)\n",
    "        print(\"Texte déchiffré :\", texte_dechiffre)\n",
    "        \n",
    "    else:\n",
    "        print(\"Choix invalide. Veuillez choisir 'C' pour chiffrer ou 'D' pour déchiffrer.\")\n",
    "\n",
    "# Appel de la fonction d'interaction avec l'utilisateur\n",
    "cryptage_affine()\n"
   ]
  }
 ],
 "metadata": {
  "kernelspec": {
   "display_name": "base",
   "language": "python",
   "name": "python3"
  },
  "language_info": {
   "codemirror_mode": {
    "name": "ipython",
    "version": 3
   },
   "file_extension": ".py",
   "mimetype": "text/x-python",
   "name": "python",
   "nbconvert_exporter": "python",
   "pygments_lexer": "ipython3",
   "version": "3.12.0"
  },
  "orig_nbformat": 4
 },
 "nbformat": 4,
 "nbformat_minor": 2
}
